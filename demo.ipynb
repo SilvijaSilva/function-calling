{
 "cells": [
  {
   "cell_type": "code",
   "execution_count": 1,
   "id": "57e1c9e5",
   "metadata": {},
   "outputs": [
    {
     "name": "stdout",
     "output_type": "stream",
     "text": [
      "/Users/Silva/Downloads/temporary/function-calling/.venv/bin/python: No module named pip\n",
      "Note: you may need to restart the kernel to use updated packages.\n"
     ]
    }
   ],
   "source": [
    "%pip install rich\n",
    "\n",
    "import requests\n",
    "from rich import print\n",
    "\n",
    "def get_weather(latitude, longitude):\n",
    "    response = requests.get(f\"https://api.open-meteo.com/v1/forecast?latitude={latitude}&longitude={longitude}&current=temperature_2m,wind_speed_10m&hourly=temperature_2m,relative_humidity_2m,wind_speed_10m\")\n",
    "    data = response.json()\n",
    "    print(data['current'])\n",
    "    return data['current']['temperature_2m']"
   ]
  },
  {
   "cell_type": "code",
   "execution_count": 2,
   "id": "aab603c6",
   "metadata": {},
   "outputs": [
    {
     "data": {
      "text/html": [
       "<pre style=\"white-space:pre;overflow-x:auto;line-height:normal;font-family:Menlo,'DejaVu Sans Mono',consolas,'Courier New',monospace\"><span style=\"font-weight: bold\">{</span><span style=\"color: #008000; text-decoration-color: #008000\">'time'</span>: <span style=\"color: #008000; text-decoration-color: #008000\">'2025-06-15T11:45'</span>, <span style=\"color: #008000; text-decoration-color: #008000\">'interval'</span>: <span style=\"color: #008080; text-decoration-color: #008080; font-weight: bold\">900</span>, <span style=\"color: #008000; text-decoration-color: #008000\">'temperature_2m'</span>: <span style=\"color: #008080; text-decoration-color: #008080; font-weight: bold\">15.3</span>, <span style=\"color: #008000; text-decoration-color: #008000\">'wind_speed_10m'</span>: <span style=\"color: #008080; text-decoration-color: #008080; font-weight: bold\">6.4</span><span style=\"font-weight: bold\">}</span>\n",
       "</pre>\n"
      ],
      "text/plain": [
       "\u001b[1m{\u001b[0m\u001b[32m'time'\u001b[0m: \u001b[32m'2025-06-15T11:45'\u001b[0m, \u001b[32m'interval'\u001b[0m: \u001b[1;36m900\u001b[0m, \u001b[32m'temperature_2m'\u001b[0m: \u001b[1;36m15.3\u001b[0m, \u001b[32m'wind_speed_10m'\u001b[0m: \u001b[1;36m6.4\u001b[0m\u001b[1m}\u001b[0m\n"
      ]
     },
     "metadata": {},
     "output_type": "display_data"
    },
    {
     "data": {
      "text/plain": [
       "15.3"
      ]
     },
     "execution_count": 2,
     "metadata": {},
     "output_type": "execute_result"
    }
   ],
   "source": [
    "# Example: Get weather for New York City (latitude: 40.7128, longitude: -74.0060)\n",
    "get_weather(40.7128, -74.0060)"
   ]
  },
  {
   "cell_type": "code",
   "execution_count": null,
   "id": "4edf2be2",
   "metadata": {},
   "outputs": [],
   "source": [
    "from openai import OpenAI\n",
    "import json\n",
    "import os\n",
    "from dotenv import load_dotenv\n",
    "\n",
    "load_dotenv()\n",
    "\n",
    "token = os.getenv(\"MY_TOKEN\")\n",
    "endpoint = \"https://models.github.ai/inference\"\n",
    "model = \"openai/gpt-4.1-nano\"\n",
    "\n",
    "client = OpenAI(\n",
    "    base_url=endpoint,\n",
    "    api_key=token,\n",
    ")\n",
    "\n",
    "tools = [{\n",
    "    \"type\": \"function\",\n",
    "    \"function\": {\n",
    "        \"name\": \"get_weather\",\n",
    "        \"description\": \"Get current temperature for provided coordinates in celsius.\",\n",
    "        \"parameters\": {\n",
    "            \"type\": \"object\",\n",
    "            \"properties\": {\n",
    "                \"latitude\": {\"type\": \"number\"},\n",
    "                \"longitude\": {\"type\": \"number\"}\n",
    "            },\n",
    "            \"required\": [\"latitude\", \"longitude\"],\n",
    "            \"additionalProperties\": False\n",
    "        },\n",
    "        \"strict\": True\n",
    "    }\n",
    "}]\n",
    "\n",
    "messages = [{\"role\": \"user\", \"content\": \"What's the weather like in Paris today?\"}]\n",
    "\n",
    "completion = client.chat.completions.create(\n",
    "    model=model,\n",
    "    messages=messages, # type: ignore\n",
    "    tools=tools, # type: ignore\n",
    ")"
   ]
  }
 ],
 "metadata": {
  "kernelspec": {
   "display_name": ".venv",
   "language": "python",
   "name": "python3"
  },
  "language_info": {
   "codemirror_mode": {
    "name": "ipython",
    "version": 3
   },
   "file_extension": ".py",
   "mimetype": "text/x-python",
   "name": "python",
   "nbconvert_exporter": "python",
   "pygments_lexer": "ipython3",
   "version": "3.13.3"
  }
 },
 "nbformat": 4,
 "nbformat_minor": 5
}
